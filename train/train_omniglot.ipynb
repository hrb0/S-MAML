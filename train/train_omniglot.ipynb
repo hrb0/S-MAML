{
 "cells": [
  {
   "cell_type": "code",
   "execution_count": 19,
   "id": "07fbbf32-2600-478e-8463-4aae8aff8beb",
   "metadata": {},
   "outputs": [],
   "source": [
    "import sys\n",
    "sys.path.append('./pytorch-maml')\n",
    "import warnings\n",
    "warnings.filterwarnings('ignore')\n",
    "import torch\n",
    "import math\n",
    "import os\n",
    "import time\n",
    "import json\n",
    "import logging\n",
    "import numpy as np\n",
    "from scipy import stats\n",
    "from torchmeta.utils.data import BatchMetaDataLoader\n",
    "from maml.metalearners.maml import ModelAgnosticMetaLearning\n",
    "from maml.datasets import get_benchmark_by_name\n",
    "from maml.stiefelmanifold_update_parameters import stiefelmanifold_update_parameters, kernel_loss"
   ]
  },
  {
   "cell_type": "code",
   "execution_count": 20,
   "id": "dda5fba2-a086-481f-9bd3-2c7f040f498f",
   "metadata": {},
   "outputs": [],
   "source": [
    "import time\n",
    "from functools import wraps\n",
    "def estimate_execution_time(func):\n",
    "    @wraps(func)\n",
    "    def wrapper(*args, **kwargs):\n",
    "        start = time.time()\n",
    "        result = func(*args, **kwargs)\n",
    "        end = time.time()\n",
    "        elapsed_time = end - start\n",
    "        print(f\"Function '{func.__name__}' executed in: {elapsed_time:.6f} seconds\")\n",
    "        return result\n",
    "    return wrapper\n",
    "def seed_everything(seed: int):\n",
    "    import random, os\n",
    "    import numpy as np\n",
    "    import torch\n",
    "    random.seed(seed)\n",
    "    os.environ['PYTHONHASHSEED'] = str(seed)\n",
    "    np.random.seed(seed)\n",
    "    torch.manual_seed(seed)\n",
    "    torch.cuda.manual_seed(seed)\n",
    "    torch.backends.cudnn.deterministic = True\n",
    "    torch.backends.cudnn.benchmark = True"
   ]
  },
  {
   "cell_type": "code",
   "execution_count": 21,
   "id": "ce7f4ef8-fb33-4eaa-920f-1e4cf838a019",
   "metadata": {},
   "outputs": [],
   "source": [
    "config_dict = {\n",
    "    \"dataset\": \"omniglot\", # [omniglot, miniimagenet]\n",
    "    \"folder\": \"/datapath\",\n",
    "    \"output_folder\": \"models\",\n",
    "    \"num_ways\": 5,\n",
    "    \"num_shots\": 5,\n",
    "    \"num_shots_test\": 15,\n",
    "    \"hidden_size\": 64,\n",
    "    \"batch_size\": 2,\n",
    "    \"num_steps\": 5,\n",
    "    \"num_epochs\": 600,  # 50,\n",
    "    \"num_batches\": 3, # 100,\n",
    "    \"step_size\": 0.01,\n",
    "    \"first_order\": False,\n",
    "    \"meta_lr\": 0.001,\n",
    "    \"num_workers\": 0,\n",
    "    \"verbose\": True,\n",
    "    \"use_cuda\": True,\n",
    "    \"seed\": 42,\n",
    "    \"save_path\": \"/resultspath\",\n",
    "}\n",
    "with open(\"config.json\", \"w\") as f:\n",
    "    json.dump(config_dict, f)"
   ]
  },
  {
   "cell_type": "code",
   "execution_count": 22,
   "id": "84836c54-916f-4088-b6cb-e74a13a9d92c",
   "metadata": {},
   "outputs": [],
   "source": [
    "import json\n",
    "class Config:\n",
    "    def __init__(self, config_dict):\n",
    "        self.__dict__.update(config_dict)\n",
    "    def __getattr__(self, name):\n",
    "        try:\n",
    "            return self.__dict__[name]\n",
    "        except KeyError:\n",
    "            raise AttributeError(f\"'Config' object has no attribute '{name}'\")\n",
    "with open(\"config.json\", \"r\") as f:\n",
    "    config_json = json.load(f)\n",
    "config = Config(config_json)"
   ]
  },
  {
   "cell_type": "code",
   "execution_count": 23,
   "id": "ef83e4f2-e33f-4d92-a70b-40666f531f16",
   "metadata": {},
   "outputs": [
    {
     "name": "stdout",
     "output_type": "stream",
     "text": [
      "True\n"
     ]
    }
   ],
   "source": [
    "seed_everything(config.seed)\n",
    "os.environ[\"CUDA_VISIBLE_DEVICES\"] = \"0\"\n",
    "device = torch.device(\"cuda\" if config.use_cuda and torch.cuda.is_available() else \"cpu\")\n",
    "print(torch.cuda.is_available())"
   ]
  },
  {
   "cell_type": "code",
   "execution_count": 24,
   "id": "5b90199e-48af-4fec-bcb3-1f543d4a817c",
   "metadata": {},
   "outputs": [],
   "source": [
    "torch.backends.cudnn.enabled = False"
   ]
  },
  {
   "cell_type": "code",
   "execution_count": 25,
   "id": "44a635b4-b71f-4cfc-9eb8-45e4ec194369",
   "metadata": {},
   "outputs": [],
   "source": [
    "benchmark = get_benchmark_by_name(config.dataset,\n",
    "                                  config.folder,\n",
    "                                  config.num_ways,\n",
    "                                  config.num_shots,\n",
    "                                  config.num_shots_test,\n",
    "                                  hidden_size=config.hidden_size)\n",
    "meta_train_loader = BatchMetaDataLoader(benchmark.meta_train_dataset,\n",
    "                                        batch_size=config.batch_size,\n",
    "                                        shuffle=True,\n",
    "                                        num_workers=config.num_workers,\n",
    "                                        pin_memory=True)\n",
    "meta_val_dataloader = BatchMetaDataLoader(benchmark.meta_val_dataset,\n",
    "                                         batch_size=config.batch_size,\n",
    "                                         shuffle=True,\n",
    "                                         num_workers=config.num_workers,\n",
    "                                         pin_memory=True)\n",
    "meta_optimizer = torch.optim.Adam(benchmark.model.parameters(), lr=config.meta_lr)\n",
    "metalearner = ModelAgnosticMetaLearning(benchmark.model,\n",
    "                                        meta_optimizer,\n",
    "                                        first_order=config.first_order,\n",
    "                                        num_adaptation_steps=config.num_steps,\n",
    "                                        step_size=config.step_size,\n",
    "                                        loss_function=benchmark.loss_function,\n",
    "                                        device=device)\n",
    "best_value = None"
   ]
  },
  {
   "cell_type": "code",
   "execution_count": 26,
   "id": "77f04a41-58e9-48b0-9a20-24ed02b500c5",
   "metadata": {},
   "outputs": [],
   "source": [
    "def calculate_confidence_interval(data, confidence=0.95):\n",
    "    n = len(data)\n",
    "    mean = np.mean(data)\n",
    "    se = stats.sem(data)\n",
    "    h = se * stats.t.ppf((1 + confidence) / 2, n - 1)\n",
    "    return mean, mean - h, mean + h"
   ]
  },
  {
   "cell_type": "code",
   "execution_count": 27,
   "id": "5aac1582-5dfe-45d8-9e99-dde53cdb80d8",
   "metadata": {},
   "outputs": [
    {
     "name": "stdout",
     "output_type": "stream",
     "text": [
      "Epoch 1/600\n"
     ]
    },
    {
     "name": "stderr",
     "output_type": "stream",
     "text": [
      "Epoch 1: 100%|██████████████████████████████████████████████████████████████████████████████████████████████████████████████████████████████████████| 3/3 [00:02<00:00,  1.39it/s, accuracy=0.8511, loss=0.8659]\n"
     ]
    },
    {
     "ename": "TypeError",
     "evalue": "'numpy.float32' object is not iterable",
     "output_type": "error",
     "traceback": [
      "\u001b[0;31m---------------------------------------------------------------------------\u001b[0m",
      "\u001b[0;31mTypeError\u001b[0m                                 Traceback (most recent call last)",
      "Cell \u001b[0;32mIn[27], line 18\u001b[0m\n\u001b[1;32m      8\u001b[0m metalearner\u001b[38;5;241m.\u001b[39mtrain(meta_train_loader,\n\u001b[1;32m      9\u001b[0m                   max_batches\u001b[38;5;241m=\u001b[39mconfig\u001b[38;5;241m.\u001b[39mnum_batches,\n\u001b[1;32m     10\u001b[0m                   verbose\u001b[38;5;241m=\u001b[39mconfig\u001b[38;5;241m.\u001b[39mverbose,\n\u001b[1;32m     11\u001b[0m                   desc\u001b[38;5;241m=\u001b[39m\u001b[38;5;124m'\u001b[39m\u001b[38;5;124mTraining\u001b[39m\u001b[38;5;124m'\u001b[39m,\n\u001b[1;32m     12\u001b[0m                   leave\u001b[38;5;241m=\u001b[39m\u001b[38;5;28;01mFalse\u001b[39;00m)\n\u001b[1;32m     13\u001b[0m mean_results, results, batch_results \u001b[38;5;241m=\u001b[39m metalearner\u001b[38;5;241m.\u001b[39mevaluate(meta_val_dataloader,\n\u001b[1;32m     14\u001b[0m                                max_batches\u001b[38;5;241m=\u001b[39mconfig\u001b[38;5;241m.\u001b[39mnum_batches,\n\u001b[1;32m     15\u001b[0m                                verbose\u001b[38;5;241m=\u001b[39mconfig\u001b[38;5;241m.\u001b[39mverbose,\n\u001b[1;32m     16\u001b[0m                                desc\u001b[38;5;241m=\u001b[39m\u001b[38;5;124mf\u001b[39m\u001b[38;5;124m'\u001b[39m\u001b[38;5;124mEpoch \u001b[39m\u001b[38;5;132;01m{\u001b[39;00mepoch\u001b[38;5;241m+\u001b[39m\u001b[38;5;241m1\u001b[39m\u001b[38;5;132;01m}\u001b[39;00m\u001b[38;5;124m'\u001b[39m)\n\u001b[0;32m---> 18\u001b[0m accuracies \u001b[38;5;241m=\u001b[39m [result[\u001b[38;5;124m\"\u001b[39m\u001b[38;5;124maccuracies_after\u001b[39m\u001b[38;5;124m\"\u001b[39m]\u001b[38;5;241m.\u001b[39mmean() \u001b[38;5;28;01mfor\u001b[39;00m result \u001b[38;5;129;01min\u001b[39;00m batch_results]\n\u001b[1;32m     19\u001b[0m mean, ci_lower, ci_upper \u001b[38;5;241m=\u001b[39m calculate_confidence_interval(accuracies)\n\u001b[1;32m     21\u001b[0m all_grad_norms \u001b[38;5;241m=\u001b[39m [result[\u001b[38;5;124m'\u001b[39m\u001b[38;5;124mgrad_norm\u001b[39m\u001b[38;5;124m'\u001b[39m] \u001b[38;5;28;01mfor\u001b[39;00m result \u001b[38;5;129;01min\u001b[39;00m batch_results]\n",
      "\u001b[0;31mTypeError\u001b[0m: 'numpy.float32' object is not iterable"
     ]
    }
   ],
   "source": [
    "all_epoch_results = []\n",
    "all_grad_norms = []\n",
    "best_accuracy = 0\n",
    "best_result = None\n",
    "\n",
    "for epoch in range(config.num_epochs):\n",
    "    print(f\"Epoch {epoch+1}/{config.num_epochs}\")\n",
    "    metalearner.train(meta_train_loader,\n",
    "                      max_batches=config.num_batches,\n",
    "                      verbose=config.verbose,\n",
    "                      desc='Training',\n",
    "                      leave=False)\n",
    "    mean_results, results, batch_results = metalearner.evaluate(meta_val_dataloader,\n",
    "                                   max_batches=config.num_batches,\n",
    "                                   verbose=config.verbose,\n",
    "                                   desc=f'Epoch {epoch+1}')\n",
    "    \n",
    "    accuracies = [result[\"accuracies_after\"].mean() for result in batch_results]\n",
    "    mean, ci_lower, ci_upper = calculate_confidence_interval(accuracies)\n",
    "\n",
    "    all_grad_norms = [result['grad_norm'] for result in batch_results]\n",
    "    print(all_grad_norms)\n",
    "    # mean_grad_norm = np.mean(all_grad_norms)\n",
    "    \n",
    "    results['ci_lower'] = ci_lower\n",
    "    results['ci_upper'] = ci_upper\n",
    "    # results['grad_norm'] = mean_grad_norm\n",
    "    results['epoch'] = epoch + 1\n",
    "    # results['grad_norm']\n",
    "\n",
    "    all_epoch_results.append(results)\n",
    "\n",
    "    # Save results\n",
    "    dirname = os.path.dirname(config_dict['save_path'])\n",
    "\n",
    "    with open(os.path.join(dirname, 'omiglot_test_5w5s.json'), 'w') as f:\n",
    "        json.dump(all_epoch_results, f, indent=4)\n",
    "\n",
    "    if results['accuracies_after'] > best_accuracy:\n",
    "        best_accuracy = results['accuracies_after']\n",
    "        best_result = results\n",
    "        with open(os.path.join(dirname, 'omiglot_best_5w5s.json'), 'w') as f:\n",
    "            json.dump(best_result, f, indent=4)\n",
    "            "
   ]
  },
  {
   "cell_type": "code",
   "execution_count": null,
   "id": "942553a4-7d78-493e-aacf-8c17c18f7df5",
   "metadata": {},
   "outputs": [],
   "source": []
  }
 ],
 "metadata": {
  "kernelspec": {
   "display_name": "Python 3 (ipykernel)",
   "language": "python",
   "name": "python3"
  },
  "language_info": {
   "codemirror_mode": {
    "name": "ipython",
    "version": 3
   },
   "file_extension": ".py",
   "mimetype": "text/x-python",
   "name": "python",
   "nbconvert_exporter": "python",
   "pygments_lexer": "ipython3",
   "version": "3.8.19"
  }
 },
 "nbformat": 4,
 "nbformat_minor": 5
}
